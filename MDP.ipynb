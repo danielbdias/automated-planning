{
 "cells": [
  {
   "cell_type": "markdown",
   "id": "c0b8435f-2cfc-4cd1-90ff-48c2f526d5dd",
   "metadata": {},
   "source": [
    "# Identificação\n",
    "\n",
    "Preencha os dados abaixo para facilitar a avaliação da sua solução (você deve entregar esse arquivo via e-disciplinas)\n",
    "\n",
    "- **Nome:**\n",
    "- **NUSP:**"
   ]
  },
  {
   "cell_type": "markdown",
   "id": "2555e755-2727-4acd-981b-da0c4ef156dc",
   "metadata": {},
   "source": [
    "# Planejamento Probabilístico\n",
    "\n",
    "Nesta atividade iremos implementar dois algoritmos utilizados para solucionar Processos de Decisão Markovianos (MDPs).\n",
    "\n",
    "Podemos considerar um MDP como como uma tupla $\\langle S,A,R,P,\\gamma \\rangle$, onde:\n",
    "\n",
    "- $S$ é um conjunto finito de estados do sistema;\n",
    "- $A$ é um conjunto finito de ações que o agente pode executar;\n",
    "- $R : S \\times A \\rightarrow \\mathbb{R}$ é a função de recompensa que o agente recebe ao se chegar um determinado estado;\n",
    "- $P(s'|s,a)$ define a probabilidade de transição de se alcançar um estado $s'$ a partir de um estado $s \\in S$, executando a ação $a \\in A$;\n",
    "- $\\gamma$ é o fator de desconto, tal que $0 \\leq \\gamma < 1$, onde a recompensa de $t$ etapas no futuro é descontada por $\\gamma^{t}$.\n",
    "\n",
    "Para encontrar uma solução ótima para este MDP utilizamos a _equação de Bellman_, que encontra a função valor ótima ($V^*$) para o nosso problema e é definida por:\n",
    "    \n",
    "$ V^*(s) = \\max_{a \\in A} \\left\\{ R(s) + \\gamma \\sum_{s' \\in S} P(s'|s,a) V^*(s') \\right\\} $\n",
    "    \n",
    "Através dessa função podemos encontrar uma política, uma função $ \\pi : S \\rightarrow A $, que mapeia quais ações a serem executadas em cada estado. Uma _política ótima_ é aquela que devolve a melhor ação a ser executada para cada estado, e pode ser definida pela equação de Bellman como:\n",
    "    \n",
    "$ \\pi^*(s) = arg \\max_{a \\in A} \\left\\{ R(s) + \\gamma \\sum_{s' \\in S} P(s'|s,a) V^*(s') \\right\\} $\n",
    "\n",
    "Os algoritmos que iremos ver nesta atividade utilizam estas equações para buscar soluções para os MDPs."
   ]
  },
  {
   "cell_type": "markdown",
   "id": "aa728c12-8843-4256-9546-7c120157ee53",
   "metadata": {},
   "source": [
    "## 💻 Configurações\n",
    "\n",
    "### Notebook\n",
    "\n",
    "Este notebook pode ser executado de três formas:\n",
    "- localmente com Python nativo, via uma execução local do Jupyter;\n",
    "- localmente com docker, através da execução do comando `docker compose up` na raiz do projeto;\n",
    "- remotamente via Google Colab"
   ]
  },
  {
   "cell_type": "code",
   "execution_count": null,
   "id": "1c4f6217",
   "metadata": {},
   "outputs": [],
   "source": [
    "%%bash\n",
    "##\n",
    "# Caso você queira rodar este notebook no Google, copie este notebook para o Colab e execute o conteúdo da célula abaixo\n",
    "##\n",
    "\n",
    "[[ ! -e /opt/google ]] && exit # Caso esta célula não esteja executando no Colab, interrompe sua execução aqui\n",
    "\n",
    "echo \"Running Google Colab commands\"\n",
    "rm -rf ./*\n",
    "\n",
    "git clone https://github.com/danielbdias/mac0318-2021-atividades\n",
    "mv ./mac0318-2021-atividades/* ./\n",
    "rm -rf ./mac0318-2021-atividades\n",
    "rm -rf ./sample_data"
   ]
  },
  {
   "cell_type": "code",
   "execution_count": 3,
   "id": "365e9f3a-6edb-438b-af8b-dabc0fc592f5",
   "metadata": {},
   "outputs": [],
   "source": [
    "%%bash\n",
    "# Para começar a executar este notebook, instale as dependências deste notebook\n",
    "pip install -q -r requirements.txt"
   ]
  },
  {
   "cell_type": "markdown",
   "id": "e2d383cd-a940-4a93-99c8-2414d5da8db7",
   "metadata": {},
   "source": [
    "### Bibliotecas\n",
    "\n",
    "Neste notebook utilizaremos o `numpy` para nos ajudar com funções auxiliares e algumas libs internas."
   ]
  },
  {
   "cell_type": "code",
   "execution_count": 4,
   "id": "0d65d5e9-9f53-4dcf-aab0-d91cd0dbe2a4",
   "metadata": {},
   "outputs": [],
   "source": [
    "import numpy as np\n",
    "import time\n",
    "\n",
    "from scripts.structures.algorithm_statistics import AlgorithmStatistics\n",
    "from scripts.problem_reader import read_problem_file\n",
    "from scripts.helpers import plot_navigation_policy, plot_navigation_value_function, plot_residuals"
   ]
  },
  {
   "cell_type": "markdown",
   "id": "611a7d01-faf4-4b5f-8af8-499a44807295",
   "metadata": {},
   "source": [
    "## Iteração de valor\n",
    "\n",
    "O algoritmo de Iteração de Valor busca utilizar a equação de Bellman diretamente em todos os estados para encontrar uma função valor ótima. Para isso ele realiza uma operação que chamamos de _Bellman Backup_, onde dado uma função valor no momento $t$, encontramos o valor dela no momento $t+1$ com a seguinte equação:\n",
    "\n",
    "$ V^{t+1}(s) \\leftarrow \\max_{a \\in A} \\left\\{ R(s) + \\gamma  \\sum_{s' \\in S} P(s'|s,a) V^t(s') \\right\\} $\n",
    "\n",
    "Como nesta formulação apenas a fução de probabilidade de transição depende da ação, tirar a função recompensa e o fator de desconto $\\gamma$ da maximização e reescrever a formula como:\n",
    "\n",
    "$ V^{t+1}(s) \\leftarrow R(s) + \\gamma \\max_{a \\in A} \\left\\{\\sum_{s' \\in S} P(s'|s,a) V^t(s') \\right\\} $"
   ]
  },
  {
   "cell_type": "markdown",
   "id": "2e47c2e2-12be-4029-8a52-145ec7392919",
   "metadata": {},
   "source": [
    "### 💡 Atividade\n",
    "\n",
    "Dada a formulação acima, implemente o _Bellman Backup_.\n",
    "\n",
    "Para auxiliar na implementação o objeto **mdp** que a função recebe tem dois atributos e duas funções auxiliares.\n",
    "- atributo `actions`, que é uma lista de ações do MDP;\n",
    "- atributo `states`, que é uma lista com todos os estados possíveis do MDP;\n",
    "- função `transition(state, action, next_state)` que devolve a probabilidade de ir para o estado `next_state` dado que estou no estado `state` e executei a ação `action`;\n",
    "- função `reward(state)`, que devolve a recompensa de se estar em um estado `state`;"
   ]
  },
  {
   "cell_type": "code",
   "execution_count": 5,
   "id": "411b644c-de9c-4d30-9067-7d1d2f7867f6",
   "metadata": {},
   "outputs": [],
   "source": [
    "def bellman_backup(mdp, value_function, state, gamma):\n",
    "    \"\"\"Executa um Bellman backup em um estado.\n",
    "    Parameters:\n",
    "    mdp (EnumerativeMDP): MDP enumerativo a ser solucionado\n",
    "    value_function (dict[string] -> float): Função valor contendo os valores de cada estado no instante t\n",
    "    state (string): Estado atual para o qual executaremos o backup\n",
    "    gamma (float): fator de desconto\n",
    "    Returns:\n",
    "    float: valor do estado em t + 1\n",
    "    \"\"\"\n",
    "    return 0 # implementar aqui"
   ]
  },
  {
   "cell_type": "markdown",
   "id": "04892a73-8c71-4afb-a1d3-ccc1718ed138",
   "metadata": {},
   "source": [
    "### Erro residual máximo\n",
    "\n",
    "Ao executarmos o _Bellman backup_ diversas vezes para todos os estados percebemos que a função valor converge para um ponto fixo, a função valor ótima. Quando executamos o _Bellman backup_ com a função valor ótima, percebemos que $V^{t+1}(s)$ não tem diferença em relação a $V^t(s)$.\n",
    "\n",
    "Podemos utilizar isto no algoritmo como critério de parada, calculado o resíduo (a diferença) de $V^{t+1}(s)$ e $V^t(s)$ para todos os estados. Caso o resíduo máximo seja menor que um dado $\\epsilon$ (geralmente um valor bem pequeno, como $10^{-8}$), podemos considerar que o algoritmo convergiu. Este _Erro residual_ ou _Erro de Bellman_ é dado pela função:\n",
    "\n",
    "$residual(V^t, V^{t+1}) = \\max_{s \\in S} |V(s)^t - V(s)^{t+1}| $"
   ]
  },
  {
   "cell_type": "markdown",
   "id": "cdb614fc-abe3-4055-847b-f7489ed2c4e9",
   "metadata": {},
   "source": [
    "### 💡 Atividade\n",
    "\n",
    "Dada a formulação acima, implemente o _Erro residual máximo_."
   ]
  },
  {
   "cell_type": "code",
   "execution_count": 6,
   "id": "14d321be-0536-4b2f-afb9-033bc27197db",
   "metadata": {},
   "outputs": [],
   "source": [
    "def compute_maximum_residual(mdp, value_function_at_t, value_function_at_t_plus_1):\n",
    "    \"\"\"Calcula o erro residual máximo de duas funções valores.\n",
    "    Parameters:\n",
    "    mdp (EnumerativeMDP): MDP enumerativo a ser solucionado\n",
    "    value_function_at_t (dict[string] -> float): Função valor contendo os valores de cada estado no instante t\n",
    "    value_function_at_t_plus_1 (dict[string] -> float): Função valor contendo os valores de cada estado no instante t + 1\n",
    "    Returns:\n",
    "    float: valor do estado em t + 1\n",
    "    \"\"\"\n",
    "    return 0 # implementar aqui"
   ]
  },
  {
   "cell_type": "markdown",
   "id": "937623e6-0194-41e9-a078-62c138a240c7",
   "metadata": {},
   "source": [
    "Ao final da Iteração de Valor, podemos calcular o política encontrada pelo algoritmo, que pode ser dada pela função abaixo, derivada da fórmula de política ótima:\n",
    "\n",
    "$ \\pi^t(s) = arg\\max_{a \\in A} \\left\\{ R(s) + \\gamma\\sum_{s' \\in S} P(s'|s,a) V^t(s') \\right\\} $"
   ]
  },
  {
   "cell_type": "code",
   "execution_count": 7,
   "id": "2a72fbee-63fe-4c8c-a8bc-baeda38778af",
   "metadata": {},
   "outputs": [],
   "source": [
    "def compute_policy(mdp, gamma, value_function):\n",
    "    \"\"\"Calcula a política de uma função valor\n",
    "    Parameters:\n",
    "    mdp (EnumerativeMDP): MDP enumerativo a ser solucionado\n",
    "    gamma (float): fator de desconto\n",
    "    value_function (dict[string] -> float): Função valor contendo os valores de cada estado no instante t\n",
    "    Returns:\n",
    "    (dict[string] -> string): política para a função valor atual\n",
    "    \"\"\"\n",
    "    policy = {}\n",
    "\n",
    "    for state in mdp.states:\n",
    "        max_value = float(\"-inf\")\n",
    "        best_action = None\n",
    "\n",
    "        for action in mdp.actions:\n",
    "            sum = 0\n",
    "        \n",
    "            for next_state in mdp.states:\n",
    "                sum += (mdp.transition(state, action, next_state) * value_function[next_state])\n",
    "\n",
    "            sum = mdp.reward(state) + gamma * sum\n",
    "                \n",
    "            if sum > max_value:\n",
    "                max_value = sum\n",
    "                best_action = action\n",
    "\n",
    "        policy[state] = best_action\n",
    "\n",
    "    return policy"
   ]
  },
  {
   "cell_type": "markdown",
   "id": "cf2bd5d5-36fd-48b6-a32c-d439b4c254f9",
   "metadata": {},
   "source": [
    "Por fim, podemos utilizar todas essas funções para estruturar o algoritmo de _Iteração de Valor_, conforme o código abaixo:"
   ]
  },
  {
   "cell_type": "code",
   "execution_count": 8,
   "id": "8ba7c56c-e239-42b0-8b38-f4bf6270363f",
   "metadata": {},
   "outputs": [],
   "source": [
    "def value_iteration(mdp, gamma = 0.9, epsilon = 1e-8):\n",
    "    \"\"\"Soluciona um MDP através do algoritmo Iteração de Valor.\n",
    "    Para a função valor inicial, utilizamos a heurística da recompensa máxima, onde  V^0(s) será a recompensa máximo encontrada na função recompensa.\n",
    "    Parameters:\n",
    "    mdp (EnumerativeMDP): MDP enumerativo a ser solucionado\n",
    "    gamma (float): fator de desconto\n",
    "    epsilon (float): resíduo máximo a ser encontrado na função valor\n",
    "    Returns:\n",
    "    policy (dict[string] -> string): política ótima\n",
    "    value_function_at_t (dict[string] -> float): função valor ótima\n",
    "    statistics (AlgorithmStatistics): estatísticas da execução do problema\n",
    "    \"\"\"\n",
    "    policy = dict(map(lambda state : (state, None), mdp.states))\n",
    "\n",
    "    reward_heuristic = mdp.reward_matrix().max()\n",
    "    value_function_at_t = dict(map(lambda state : (state, reward_heuristic), mdp.states))\n",
    "    \n",
    "    t = 0\n",
    "    maximum_residuals = []\n",
    "    bellman_backups_done = 0\n",
    "    \n",
    "    start = time.time()\n",
    "    \n",
    "    while True:\n",
    "        value_function_at_t_plus_1 = dict(map(lambda state : (state, value_function_at_t[state]), mdp.states))\n",
    "\n",
    "        # do bellman update\n",
    "        for state in mdp.states:\n",
    "            value_function_at_t_plus_1[state] = bellman_backup(mdp, value_function_at_t, state, gamma)\n",
    "            bellman_backups_done = bellman_backups_done + 1\n",
    "\n",
    "        iteration_residual = compute_maximum_residual(mdp, value_function_at_t, value_function_at_t_plus_1)\n",
    "        value_function_at_t = value_function_at_t_plus_1\n",
    "\n",
    "        # update statistics\n",
    "        t = t + 1\n",
    "        maximum_residuals.append(iteration_residual)\n",
    "\n",
    "        if iteration_residual < epsilon:\n",
    "            break # end loop\n",
    "            \n",
    "    # after finishing converging, compute policy and statistics\n",
    "    policy = compute_policy(mdp, gamma, value_function_at_t)\n",
    "    \n",
    "    end = time.time()\n",
    "    \n",
    "    statistics = AlgorithmStatistics(t, maximum_residuals, bellman_backups_done, end-start)\n",
    "\n",
    "    return policy, value_function_at_t, statistics"
   ]
  },
  {
   "cell_type": "markdown",
   "id": "b734e003-5058-4f7e-9c7c-545eaded531e",
   "metadata": {},
   "source": [
    "### Execuções\n",
    "\n",
    "Iremos testar a execução do algoritmo com o problema `Navigation_01`. Este problema consiste em um robô tentando ir de um ponto a outro no mapa. As bordas do mapa estão estáveis e permitem que o robo chegue de uma ponta a outra sem problemas."
   ]
  },
  {
   "cell_type": "code",
   "execution_count": 9,
   "id": "838c691a-e163-4364-a57c-05965293e747",
   "metadata": {},
   "outputs": [
    {
     "data": {
      "text/html": [
       "<div>\n",
       "<style scoped>\n",
       "    .dataframe tbody tr th:only-of-type {\n",
       "        vertical-align: middle;\n",
       "    }\n",
       "\n",
       "    .dataframe tbody tr th {\n",
       "        vertical-align: top;\n",
       "    }\n",
       "\n",
       "    .dataframe thead th {\n",
       "        text-align: right;\n",
       "    }\n",
       "</style>\n",
       "<table border=\"1\" class=\"dataframe\">\n",
       "  <thead>\n",
       "    <tr style=\"text-align: right;\">\n",
       "      <th></th>\n",
       "      <th>0</th>\n",
       "    </tr>\n",
       "  </thead>\n",
       "  <tbody>\n",
       "    <tr>\n",
       "      <th>Estados</th>\n",
       "      <td>broken-robot, robot-at-x01y01, robot-at-x01y02...</td>\n",
       "    </tr>\n",
       "    <tr>\n",
       "      <th>Estado inicial</th>\n",
       "      <td>robot-at-x01y01</td>\n",
       "    </tr>\n",
       "    <tr>\n",
       "      <th>Meta</th>\n",
       "      <td>robot-at-x04y03</td>\n",
       "    </tr>\n",
       "  </tbody>\n",
       "</table>\n",
       "</div>"
      ],
      "text/plain": [
       "                                                                0\n",
       "Estados         broken-robot, robot-at-x01y01, robot-at-x01y02...\n",
       "Estado inicial                                    robot-at-x01y01\n",
       "Meta                                              robot-at-x04y03"
      ]
     },
     "execution_count": 9,
     "metadata": {},
     "output_type": "execute_result"
    }
   ],
   "source": [
    "mdp_navigation_01 = read_problem_file(problem_file=\"problem_files/navigation_01.net\")\n",
    "mdp_navigation_01.describe()"
   ]
  },
  {
   "cell_type": "markdown",
   "id": "af785d9e-0534-4beb-a4a7-5abcd4799692",
   "metadata": {},
   "source": [
    "Ao executar o algoritmo podemos ver algumas estatísticas dele, como o número de iterações necessários para encontrar a política ótima e a quantidade de _Bellman backups_ realizados durante a execução dele."
   ]
  },
  {
   "cell_type": "code",
   "execution_count": 10,
   "id": "f4db43a6-2b9d-4f80-9256-c9cd0e2fb334",
   "metadata": {},
   "outputs": [
    {
     "data": {
      "text/html": [
       "<div>\n",
       "<style scoped>\n",
       "    .dataframe tbody tr th:only-of-type {\n",
       "        vertical-align: middle;\n",
       "    }\n",
       "\n",
       "    .dataframe tbody tr th {\n",
       "        vertical-align: top;\n",
       "    }\n",
       "\n",
       "    .dataframe thead th {\n",
       "        text-align: right;\n",
       "    }\n",
       "</style>\n",
       "<table border=\"1\" class=\"dataframe\">\n",
       "  <thead>\n",
       "    <tr style=\"text-align: right;\">\n",
       "      <th></th>\n",
       "      <th>0</th>\n",
       "    </tr>\n",
       "  </thead>\n",
       "  <tbody>\n",
       "    <tr>\n",
       "      <th>Iterações</th>\n",
       "      <td>176.000000</td>\n",
       "    </tr>\n",
       "    <tr>\n",
       "      <th>Bellman Backups</th>\n",
       "      <td>2288.000000</td>\n",
       "    </tr>\n",
       "    <tr>\n",
       "      <th>Tempo de execução</th>\n",
       "      <td>0.189872</td>\n",
       "    </tr>\n",
       "  </tbody>\n",
       "</table>\n",
       "</div>"
      ],
      "text/plain": [
       "                             0\n",
       "Iterações           176.000000\n",
       "Bellman Backups    2288.000000\n",
       "Tempo de execução     0.189872"
      ]
     },
     "execution_count": 10,
     "metadata": {},
     "output_type": "execute_result"
    }
   ],
   "source": [
    "policy, value_function, statistics = value_iteration(mdp_navigation_01)\n",
    "\n",
    "statistics.describe()"
   ]
  },
  {
   "cell_type": "markdown",
   "id": "3c3137f4-267f-4bb4-8579-a3949afefebb",
   "metadata": {},
   "source": [
    "Também conseguimos ver como o _Erro residual máximo_ decresce a cada iteração."
   ]
  },
  {
   "cell_type": "code",
   "execution_count": 11,
   "id": "aad5b5b1-6f3f-4cbf-85df-12d81e5fa56e",
   "metadata": {},
   "outputs": [
    {
     "data": {
      "image/png": "[encoded data removed]",
      "text/plain": [
       "<Figure size 432x288 with 1 Axes>"
      ]
     },
     "metadata": {
      "needs_background": "light"
     },
     "output_type": "display_data"
    }
   ],
   "source": [
    "plot_residuals(statistics.maximum_residuals_per_iteration)"
   ]
  },
  {
   "cell_type": "markdown",
   "id": "39046146-3443-4a59-9b5e-88b5be79ae38",
   "metadata": {},
   "source": [
    "Por fim podemos ver como a função valor ficou para cada estado do grid em que o robo navega, assim como qual foi a política encontrada por ele."
   ]
  },
  {
   "cell_type": "code",
   "execution_count": 12,
   "id": "b7ffc90e-6d0e-46bb-a179-65f93d8eb22c",
   "metadata": {},
   "outputs": [
    {
     "data": {
      "image/png": "[encoded data removed]",
      "text/plain": [
       "<Figure size 432x288 with 1 Axes>"
      ]
     },
     "metadata": {
      "needs_background": "light"
     },
     "output_type": "display_data"
    }
   ],
   "source": [
    "plot_navigation_value_function(mdp_navigation_01, value_function)"
   ]
  },
  {
   "cell_type": "code",
   "execution_count": 13,
   "id": "42caf35d-5621-442d-a140-57981a31cf9e",
   "metadata": {},
   "outputs": [
    {
     "data": {
      "image/png": "[encoded data removed]",
      "text/plain": [
       "<Figure size 432x288 with 1 Axes>"
      ]
     },
     "metadata": {
      "needs_background": "light"
     },
     "output_type": "display_data"
    }
   ],
   "source": [
    "plot_navigation_policy(mdp_navigation_01, policy)"
   ]
  },
  {
   "cell_type": "markdown",
   "id": "3559b526-1fd9-407d-a40c-6a5b5cb35ad1",
   "metadata": {},
   "source": [
    "### 💡 Atividade \n",
    "\n",
    "Teste o algoritmo para para outros tamanhos de problema localizados na pasta \"problem_files\".\n",
    "\n",
    "O que muda no comportamento do algoritmo? Por que?"
   ]
  },
  {
   "cell_type": "code",
   "execution_count": 14,
   "id": "d97ddc60-fe0a-4959-b249-77b895abe2e7",
   "metadata": {},
   "outputs": [],
   "source": [
    "#mdp_navigation_04 = read_problem_file(problem_file=\"problem_files/navigation_04.net\")\n",
    "#mdp_navigation_04.describe()"
   ]
  },
  {
   "cell_type": "markdown",
   "id": "2334db95-eba3-4128-9af0-5ea0af9fee37",
   "metadata": {},
   "source": [
    "## Iteração de política\n",
    "\n",
    "No algoritmo de _Iteração de política_ utilizamos uma abordagem um pouco diferente, onde ao invés de melhoramos a função valor através da _equação de Bellman_, buscamos melhorar a política em si.\n",
    "\n",
    "Para isto o algorimo começa com uma política inicial $\\pi^0$ e itera da seguinte forma:\n",
    "\n",
    "1) o algoritmo avalia esta política encontrando a função para ela (etapa de _Avaliação da política_);\n",
    "2) o algoritmo busca encontrar a melhor ação a função valor encontrada, caso esta ação seja diferente da política atual, ele atualiza a política (etapa de _Melhoria da política_).\n",
    "\n",
    "O critério de parada neste algoritmo é a mudança da política. Caso ela não seja alterada após uma iteração, consideramos que a política encontrada é a ótima e que o algoritmo convergiu.\n",
    "\n",
    "Na primeira etapa, chamada de _Avaliação de política_, montamos a seguinte equação para cada estado:\n",
    "\n",
    "$ V(s) = R(s) + \\gamma \\sum_{s' \\in S} P(s'|s, \\pi^t(s)) V(s') $\n",
    "\n",
    "Considerando $ S = \\{ s_0, \\dots, s_n \\} $, teríamos as seguintes equações:\n",
    "\n",
    "$ V(s_0) = R(s_0) + \\gamma \\sum_{s' \\in S} P(s'|s_0, \\pi^t(s_0)) V(s') $\n",
    "\n",
    "$ \\dots $ \n",
    "\n",
    "$ V(s_n) = R(s_n) + \\gamma \\sum_{s' \\in S} P(s'|s_n, \\pi^t(s_n)) V(s') $\n",
    "\n",
    "Nas células abaixo, no método `evaluate_policy`, resolvemos este sistema de equações na forma vetorial, resolvendo a seguinte operação:\n",
    "\n",
    "$ V^{\\pi} = R^{\\pi} + \\gamma P^{\\pi}V^{\\pi} $\n",
    "\n",
    "ou\n",
    "\n",
    "$V^{\\pi} = (I - \\gamma P^{\\pi})^{-1} R^{\\pi} $ \n",
    "\n",
    "onde:\n",
    "\n",
    "- $ V^{\\pi} $ é uma matriz contendo a função valor;\n",
    "- $ P^{\\pi} $ é uma matriz transição considerando as ações executadas na política $\\pi$;\n",
    "- $ R^{\\pi} $ é uma matriz contendo a função recompensa;\n",
    "- $ I $ é uma matriz identidade.\n"
   ]
  },
  {
   "cell_type": "code",
   "execution_count": 15,
   "id": "463089f8-9ce9-48f8-9a82-6df44e579651",
   "metadata": {},
   "outputs": [],
   "source": [
    "def get_transition_matrix_for_policy(mdp, policy):\n",
    "    \"\"\"Constroi uma matriz de transição para uma política.\n",
    "    mdp (EnumerativeMDP): MDP enumerativo a ser solucionado\n",
    "    policy (dict[string] -> string): política para o qual encontraremos a matriz de transição\n",
    "    Returns: matriz de transição para a política\n",
    "    \"\"\"\n",
    "    state_count = len(mdp.states)\n",
    "    transition_matrix_for_policy = np.matrix(np.zeros((state_count, state_count)))\n",
    "\n",
    "    for index, state in enumerate(mdp.states):\n",
    "        action = policy[state]\n",
    "        transition_matrix = mdp.transition_matrix(action)\n",
    "        transition_matrix_for_policy[index] = transition_matrix[index]\n",
    "\n",
    "    return transition_matrix_for_policy\n",
    "\n",
    "def evaluate_policy(policy, mdp, gamma):\n",
    "    \"\"\"Avalia uma política, encontrando a função valor para ela.\n",
    "    policy (dict[string] -> string): política para o qual encontraremos a função valor\n",
    "    mdp (EnumerativeMDP): MDP enumerativo a ser solucionado\n",
    "    gamma (float): fator de desconto\n",
    "    Returns: (dict[string] -> float): Função valor para a política\n",
    "    \"\"\"\n",
    "    policy_reward_matrix = mdp.reward_matrix()\n",
    "    policy_transition_matrix = get_transition_matrix_for_policy(mdp, policy)\n",
    "    identity_matrix = np.identity(len(mdp.states))\n",
    "\n",
    "    # compute value function as a system of equations\n",
    "    value_function_matrix_for_policy = (identity_matrix - gamma * policy_transition_matrix).getI() * policy_reward_matrix\n",
    "\n",
    "    value_function = {}\n",
    "\n",
    "    for index, state in enumerate(mdp.states):\n",
    "        value_function[state] = value_function_matrix_for_policy[index].item()\n",
    "\n",
    "    return value_function"
   ]
  },
  {
   "cell_type": "markdown",
   "id": "0a9850ea-6a98-4ba4-93a1-dfe20178d8d0",
   "metadata": {},
   "source": [
    "### Melhoria de política\n",
    "\n",
    "Já na etapa de _Melhoria de política_, com a função valor em mãos, para cada estado, fazemos as seguintes operações:\n",
    "\n",
    "1. Encontramos o valor para a melhor ação considerando a equação: \n",
    "\n",
    "$ V_{best}(s) = \\max_{a \\in A} \\left\\{ R(s) + \\gamma \\sum_{s' \\in S} P(s'|s,a) V(s') \\right\\} $\n",
    "\n",
    "2. Encontramos o valor para a ação atual considerando a equação:\n",
    "\n",
    "$ V_{actual}(s) = R(s) + \\gamma \\sum_{s' \\in S} P(s'|s, \\pi^t(s)) V(s') $\n",
    "\n",
    "Se $V_{best}(s) > V_{actual}(s)$, atualizamos a política atual com a melhor ação:\n",
    "\n",
    "$ \\pi(s) = arg\\max_{a \\in A} \\left\\{ R(s) + \\gamma \\sum_{s' \\in S} P(s'|s,a) V(s') \\right\\} $"
   ]
  },
  {
   "cell_type": "markdown",
   "id": "97e5b76d-abb9-4291-8b44-26e02dd8b17a",
   "metadata": {},
   "source": [
    "### 💡 Atividade\n",
    "\n",
    "Dada a formulação acima, implemente a função `improve_policy` abaixo:"
   ]
  },
  {
   "cell_type": "code",
   "execution_count": 16,
   "id": "14fbb7d7-0b2f-4f22-a830-89e207ce0435",
   "metadata": {},
   "outputs": [],
   "source": [
    "def improve_policy(policy, mdp, gamma, value_function):\n",
    "    \"\"\"Melhora uma política dada a função valor em questão\n",
    "    policy (dict[string] -> string): política para o qual encontraremos a função valor\n",
    "    mdp (EnumerativeMDP): MDP enumerativo a ser solucionado\n",
    "    gamma (float): fator de desconto\n",
    "    value_function (dict[string] -> float): Função valor para a política\n",
    "    Returns:\n",
    "    improved_policy (dict[string] -> string): política melhorada\n",
    "    values_computed (int): número de vezes que a função valor foi calculada\n",
    "    \"\"\"\n",
    "    return {}, 0 # implementar aqui"
   ]
  },
  {
   "cell_type": "markdown",
   "id": "0353c5bc-5137-4877-a4f7-f08ac90bad48",
   "metadata": {},
   "source": [
    "Por fim temos o algoritmo final, com o seguinte código abaixo:"
   ]
  },
  {
   "cell_type": "code",
   "execution_count": 17,
   "id": "a6ad621e-2085-43a7-a3b9-5eb0b38b8c84",
   "metadata": {},
   "outputs": [],
   "source": [
    "def equal_policies(mdp, first_policy, second_policy):\n",
    "    \"\"\"Checa se duas políticas são iguas.\n",
    "    Parameters:\n",
    "    mdp (EnumerativeMDP): MDP enumerativo a ser solucionado\n",
    "    first_policy (dict[string] -> string): primeira política a ser comparada\n",
    "    second_policy (dict[string] -> string): primeira política a ser comparada\n",
    "    Returns: um booleano dizendo se as políticas são iguais ou não\n",
    "    \"\"\"\n",
    "    for state in mdp.states:\n",
    "        first_action = first_policy[state]\n",
    "        second_action = second_policy[state]\n",
    "\n",
    "        if first_action != second_action:\n",
    "            return False\n",
    "\n",
    "    return True\n",
    "\n",
    "def policy_iteration(mdp, gamma = 0.9, initial_policy = None):\n",
    "    \"\"\"Executa o algoritmo Iteração de política.\n",
    "    Parameters:\n",
    "    mdp (EnumerativeMDP): MDP enumerativo a ser solucionado\n",
    "    gamma (float): fator de desconto\n",
    "    initial_policy (dict[string] -> string): política incial arbitrária\n",
    "    Returns:\n",
    "    policy (dict[string] -> string): política ótima\n",
    "    value_function (dict[string] -> float): função valor ótima\n",
    "    statistics (AlgorithmStatistics): estatísticas da execução do problema\n",
    "    \"\"\"\n",
    "    policy = initial_policy\n",
    "\n",
    "    if policy is None:\n",
    "        first_action = mdp.actions[0]\n",
    "        policy = dict(map(lambda state: (state, first_action), mdp.states))\n",
    "\n",
    "    iterations = 0\n",
    "    values = 0\n",
    "    start = time.time()\n",
    "    \n",
    "    while True:\n",
    "        iterations = iterations + 1\n",
    "\n",
    "        value_function_for_policy = evaluate_policy(policy, mdp, gamma)\n",
    "        improved_policy, values_computed = improve_policy(policy, mdp, gamma, value_function_for_policy)\n",
    "\n",
    "        values += values_computed\n",
    "        \n",
    "        if equal_policies(mdp, policy, improved_policy):\n",
    "            break\n",
    "\n",
    "        policy = improved_policy\n",
    "\n",
    "    # after finding the optimal policy, compute its value function and the statistics\n",
    "    value_function = evaluate_policy(policy, mdp, gamma)\n",
    "    \n",
    "    end = time.time()\n",
    "    \n",
    "    statistics = AlgorithmStatistics(iterations, None, values, end-start)\n",
    "    \n",
    "    return policy, value_function, statistics"
   ]
  },
  {
   "cell_type": "markdown",
   "id": "ac1299a2-beb4-4767-bc9f-10eb35bc508e",
   "metadata": {},
   "source": [
    "### Execuções\n",
    "\n",
    "Iremos testar a execução do algoritmo com o problema `Navigation_01`. Este problema consiste em um robô tentando ir de um ponto a outro no mapa. As bordas do mapa estão estáveis e permitem que o robo chegue de uma ponta a outra sem problemas."
   ]
  },
  {
   "cell_type": "code",
   "execution_count": 18,
   "id": "10350fa9-34a1-4bdd-bede-5735f88194c1",
   "metadata": {},
   "outputs": [
    {
     "data": {
      "text/html": [
       "<div>\n",
       "<style scoped>\n",
       "    .dataframe tbody tr th:only-of-type {\n",
       "        vertical-align: middle;\n",
       "    }\n",
       "\n",
       "    .dataframe tbody tr th {\n",
       "        vertical-align: top;\n",
       "    }\n",
       "\n",
       "    .dataframe thead th {\n",
       "        text-align: right;\n",
       "    }\n",
       "</style>\n",
       "<table border=\"1\" class=\"dataframe\">\n",
       "  <thead>\n",
       "    <tr style=\"text-align: right;\">\n",
       "      <th></th>\n",
       "      <th>0</th>\n",
       "    </tr>\n",
       "  </thead>\n",
       "  <tbody>\n",
       "    <tr>\n",
       "      <th>Estados</th>\n",
       "      <td>broken-robot, robot-at-x01y01, robot-at-x01y02...</td>\n",
       "    </tr>\n",
       "    <tr>\n",
       "      <th>Estado inicial</th>\n",
       "      <td>robot-at-x01y01</td>\n",
       "    </tr>\n",
       "    <tr>\n",
       "      <th>Meta</th>\n",
       "      <td>robot-at-x04y03</td>\n",
       "    </tr>\n",
       "  </tbody>\n",
       "</table>\n",
       "</div>"
      ],
      "text/plain": [
       "                                                                0\n",
       "Estados         broken-robot, robot-at-x01y01, robot-at-x01y02...\n",
       "Estado inicial                                    robot-at-x01y01\n",
       "Meta                                              robot-at-x04y03"
      ]
     },
     "execution_count": 18,
     "metadata": {},
     "output_type": "execute_result"
    }
   ],
   "source": [
    "mdp_navigation_01 = read_problem_file(problem_file=\"problem_files/navigation_01.net\")\n",
    "mdp_navigation_01.describe()"
   ]
  },
  {
   "cell_type": "code",
   "execution_count": 19,
   "id": "ccb833e3-33b0-4f8b-897c-5f8dd680ba0e",
   "metadata": {},
   "outputs": [
    {
     "data": {
      "text/html": [
       "<div>\n",
       "<style scoped>\n",
       "    .dataframe tbody tr th:only-of-type {\n",
       "        vertical-align: middle;\n",
       "    }\n",
       "\n",
       "    .dataframe tbody tr th {\n",
       "        vertical-align: top;\n",
       "    }\n",
       "\n",
       "    .dataframe thead th {\n",
       "        text-align: right;\n",
       "    }\n",
       "</style>\n",
       "<table border=\"1\" class=\"dataframe\">\n",
       "  <thead>\n",
       "    <tr style=\"text-align: right;\">\n",
       "      <th></th>\n",
       "      <th>0</th>\n",
       "    </tr>\n",
       "  </thead>\n",
       "  <tbody>\n",
       "    <tr>\n",
       "      <th>Iterações</th>\n",
       "      <td>4.000000</td>\n",
       "    </tr>\n",
       "    <tr>\n",
       "      <th>Bellman Backups</th>\n",
       "      <td>104.000000</td>\n",
       "    </tr>\n",
       "    <tr>\n",
       "      <th>Tempo de execução</th>\n",
       "      <td>0.023605</td>\n",
       "    </tr>\n",
       "  </tbody>\n",
       "</table>\n",
       "</div>"
      ],
      "text/plain": [
       "                            0\n",
       "Iterações            4.000000\n",
       "Bellman Backups    104.000000\n",
       "Tempo de execução    0.023605"
      ]
     },
     "execution_count": 19,
     "metadata": {},
     "output_type": "execute_result"
    }
   ],
   "source": [
    "policy, value_function, statistics = policy_iteration(mdp_navigation_01)\n",
    "\n",
    "statistics.describe()"
   ]
  },
  {
   "cell_type": "code",
   "execution_count": 20,
   "id": "b453d4d8-8a77-4711-b608-2da06b979780",
   "metadata": {},
   "outputs": [
    {
     "data": {
      "image/png": "[encoded data removed]",
      "text/plain": [
       "<Figure size 432x288 with 1 Axes>"
      ]
     },
     "metadata": {
      "needs_background": "light"
     },
     "output_type": "display_data"
    }
   ],
   "source": [
    "plot_navigation_value_function(mdp_navigation_01, value_function)"
   ]
  },
  {
   "cell_type": "code",
   "execution_count": 21,
   "id": "a7ebaec2-b567-4b9b-a378-8aae46ad64aa",
   "metadata": {},
   "outputs": [
    {
     "data": {
      "image/png": "[encoded data removed]",
      "text/plain": [
       "<Figure size 432x288 with 1 Axes>"
      ]
     },
     "metadata": {
      "needs_background": "light"
     },
     "output_type": "display_data"
    }
   ],
   "source": [
    "plot_navigation_policy(mdp_navigation_01, policy)"
   ]
  },
  {
   "cell_type": "markdown",
   "id": "aca1ecc5-8048-4f04-b1f2-5ea81f1f74b2",
   "metadata": {},
   "source": [
    "### 💡 Atividade \n",
    "\n",
    "Testem o algoritmo para para outros tamanhos de problema localizados na pasta `problem_files`.\n",
    "\n",
    "O que muda no comportamento do algoritmo? Por que?"
   ]
  },
  {
   "cell_type": "code",
   "execution_count": 22,
   "id": "84b913f2-b1f3-41b8-89b0-287147b887a1",
   "metadata": {},
   "outputs": [],
   "source": [
    "#mdp_navigation_04 = read_problem_file(problem_file=\"problem_files/navigation_04.net\")\n",
    "#mdp_navigation_04.describe()"
   ]
  },
  {
   "cell_type": "markdown",
   "id": "913fdf8c-72c9-451b-b884-acb31a6efe0f",
   "metadata": {},
   "source": [
    "--- \n",
    "\n",
    "## 🚚 Entrega\n",
    "\n",
    "Você deve submeter esse arquivo de notebook (ou exportá-lo como html) via e-disciplinas contendo suas soluções para todas as seções identificadas como 💡 **Atividade**. Em particular você deve:\n",
    "\n",
    "### Iteração de valor\n",
    "\n",
    "1. Implementar função `bellman_backup`;\n",
    "2. Implementar função `compute_maximum_residual`;\n",
    "3. Testar algoritmo com diferentes configuração de problema e escrever sobre os resultados\n",
    "\n",
    "### Iteração de política\n",
    "\n",
    "1. Implementar função `improve_policy`;\n",
    "2. Testar algoritmo com diferentes configuração de problema e escrever sobre os resultados.\n",
    "\n"
   ]
  },
  {
   "cell_type": "code",
   "execution_count": null,
   "id": "18420005-73c9-4435-8f4a-ee53c4c5800b",
   "metadata": {},
   "outputs": [],
   "source": []
  }
 ],
 "metadata": {
  "kernelspec": {
   "display_name": "Python 3.10.4 64-bit ('3.10.4')",
   "language": "python",
   "name": "python3"
  },
  "language_info": {
   "codemirror_mode": {
    "name": "ipython",
    "version": 3
   },
   "file_extension": ".py",
   "mimetype": "text/x-python",
   "name": "python",
   "nbconvert_exporter": "python",
   "pygments_lexer": "ipython3",
   "version": "3.10.4"
  },
  "vscode": {
   "interpreter": {
    "hash": "c7c83a8660385279e2a8ee0ddad7f51a2783e5f8e4519ed41c2e0da00d3d5602"
   }
  }
 },
 "nbformat": 4,
 "nbformat_minor": 5
}
